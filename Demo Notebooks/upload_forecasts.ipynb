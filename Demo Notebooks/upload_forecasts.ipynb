{
 "cells": [
  {
   "cell_type": "code",
   "execution_count": 1,
   "id": "8002e6e8-a1b2-4208-970e-df034a5ffd5b",
   "metadata": {},
   "outputs": [],
   "source": [
    "import numpy as np\n",
    "import pandas as pd\n",
    "import mosqlient as mosq\n",
    "from epiweeks import Week\n",
    "import matplotlib.pyplot as plt"
   ]
  },
  {
   "cell_type": "markdown",
   "id": "1118ab40",
   "metadata": {},
   "source": [
    "## Uploading the forecasts to the Mosqlimate platform\n",
    "\n",
    "### 1. Load API key"
   ]
  },
  {
   "cell_type": "code",
   "execution_count": 2,
   "id": "c98e6fba",
   "metadata": {},
   "outputs": [],
   "source": [
    "import os\n",
    "from dotenv import load_dotenv\n",
    "\n",
    "# Load environment variables from a specific file\n",
    "dotenv_path = os.path.join(os.getcwd(), '..', 'API_KEY.env')\n",
    "load_dotenv(dotenv_path=dotenv_path)\n",
    "\n",
    "# Get the API key\n",
    "api_key = os.getenv('API_KEY')"
   ]
  },
  {
   "cell_type": "markdown",
   "id": "5c5502b5",
   "metadata": {},
   "source": [
    "\n",
    "### 2. Define model characteristics and upload it (DO ONLY ONCE)"
   ]
  },
  {
   "cell_type": "code",
   "execution_count": 46,
   "id": "19ff1d06",
   "metadata": {},
   "outputs": [
    {
     "data": {
      "text/plain": [
       "{'id': 127,\n",
       " 'name': 'Cornell PEH - NegBinom Baseline model',\n",
       " 'description': 'Negative Binomial baseline model for the 2025 sprint',\n",
       " 'author': {'user': {'name': 'Bento Lab', 'username': 'anabento'},\n",
       "  'institution': None},\n",
       " 'repository': 'https://github.com/anabento/DengueSprint_Cornell-PEH',\n",
       " 'implementation_language': {'language': 'Python'},\n",
       " 'disease': 'dengue',\n",
       " 'categorical': False,\n",
       " 'spatial': True,\n",
       " 'temporal': True,\n",
       " 'adm_level': 1,\n",
       " 'time_resolution': 'week',\n",
       " 'sprint': True}"
      ]
     },
     "execution_count": 46,
     "metadata": {},
     "output_type": "execute_result"
    }
   ],
   "source": [
    "name = \"Cornell PEH - NegBinom Baseline model\"\n",
    "description = \"Negative Binomial baseline model for the 2025 sprint\"\n",
    "repository = \"https://github.com/anabento/DengueSprint_Cornell-PEH\"\n",
    "implementation_language = \"Python\"\n",
    "disease = \"dengue\"\n",
    "temporal = True\n",
    "spatial = True\n",
    "categorical = False\n",
    "adm_level = 1\n",
    "time_resolution = \"week\"\n",
    "sprint = True\n",
    "\n",
    "model = mosq.upload_model(\n",
    "    api_key=api_key,\n",
    "    name=name,\n",
    "    description=description,\n",
    "    repository=repository,\n",
    "    implementation_language=implementation_language,\n",
    "    disease=disease,\n",
    "    temporal=temporal,\n",
    "    spatial=spatial,\n",
    "    categorical=categorical,\n",
    "    adm_level=adm_level,\n",
    "    time_resolution=time_resolution,\n",
    "    sprint=sprint\n",
    ")\n",
    "\n",
    "model.dict()"
   ]
  },
  {
   "cell_type": "markdown",
   "id": "5ae9c721",
   "metadata": {},
   "source": [
    "### 2. Get our forecast & upload"
   ]
  },
  {
   "cell_type": "code",
   "execution_count": null,
   "id": "c6905d1c",
   "metadata": {},
   "outputs": [
    {
     "name": "stdout",
     "output_type": "stream",
     "text": [
      "           adm_1  lower_95  upper_95  lower_90  upper_90  lower_80  upper_80  \\\n",
      "date                                                                           \n",
      "2022-10-10    AC       0.0    1122.0       0.0     848.0       2.0     587.0   \n",
      "2022-10-17    AC       0.0    1253.0       0.0     949.0       2.0     658.0   \n",
      "2022-10-24    AC       0.0    1237.0       0.0     936.0       2.0     649.0   \n",
      "2022-10-31    AC       0.0    1164.0       1.0     897.0       5.0     639.0   \n",
      "2022-11-07    AC       0.0    1242.0       2.0     961.0       6.0     689.0   \n",
      "2022-11-14    AC       1.0    1340.0       2.0    1043.0       9.0     754.0   \n",
      "2022-11-21    AC       1.0    1394.0       3.0    1091.0      11.0     795.0   \n",
      "2022-11-28    AC       1.0    1443.0       5.0    1135.0      14.0     833.0   \n",
      "2022-12-05    AC       3.0    1406.0       9.0    1121.0      22.0     839.0   \n",
      "2022-12-12    AC       3.0    1306.0       8.0    1042.0      21.0     780.0   \n",
      "2022-12-19    AC       2.0    1357.0       6.0    1074.0      16.0     795.0   \n",
      "2022-12-26    AC       0.0    1399.0       2.0    1083.0       7.0     776.0   \n",
      "2023-01-02    AC       5.0    1959.0      12.0    1560.0      30.0    1167.0   \n",
      "2023-01-09    AC       5.0    1983.0      13.0    1583.0      32.0    1187.0   \n",
      "2023-01-16    AC      10.0    1955.0      22.0    1579.0      47.0    1205.0   \n",
      "2023-01-23    AC      10.0    1723.0      22.0    1397.0      46.0    1071.0   \n",
      "2023-01-30    AC       7.0    1903.0      17.0    1528.0      38.0    1157.0   \n",
      "2023-02-06    AC       7.0    1850.0      16.0    1487.0      38.0    1126.0   \n",
      "2023-02-13    AC       7.0    1814.0      17.0    1459.0      38.0    1106.0   \n",
      "2023-02-20    AC       5.0    1625.0      12.0    1301.0      29.0     979.0   \n",
      "2023-02-27    AC       5.0    1535.0      12.0    1229.0      28.0     926.0   \n",
      "2023-03-06    AC       5.0    1255.0      11.0    1008.0      26.0     764.0   \n",
      "2023-03-13    AC       4.0    1092.0      10.0     879.0      23.0     667.0   \n",
      "2023-03-20    AC       6.0     826.0      13.0     674.0      26.0     521.0   \n",
      "2023-03-27    AC       5.0     707.0      10.0     575.0      20.0     442.0   \n",
      "2023-04-03    AC       5.0     621.0      11.0     507.0      21.0     394.0   \n",
      "2023-04-10    AC       6.0     479.0      11.0     395.0      21.0     310.0   \n",
      "2023-04-17    AC       7.0     363.0      12.0     303.0      21.0     241.0   \n",
      "2023-04-24    AC       3.0     373.0       7.0     306.0      13.0     238.0   \n",
      "2023-05-01    AC       6.0     314.0      11.0     262.0      18.0     209.0   \n",
      "2023-05-08    AC       6.0     290.0      10.0     243.0      18.0     194.0   \n",
      "2023-05-15    AC       7.0     224.0      10.0     189.0      17.0     153.0   \n",
      "2023-05-22    AC       6.0     204.0       9.0     172.0      15.0     139.0   \n",
      "2023-05-29    AC       7.0     176.0      10.0     150.0      16.0     123.0   \n",
      "2023-06-05    AC       2.0     200.0       4.0     165.0       8.0     129.0   \n",
      "2023-06-12    AC       5.0     154.0       7.0     130.0      12.0     106.0   \n",
      "2023-06-19    AC       2.0     151.0       3.0     124.0       6.0      98.0   \n",
      "2023-06-26    AC       2.0     156.0       4.0     129.0       7.0     102.0   \n",
      "2023-07-03    AC       3.0     147.0       5.0     123.0       8.0      98.0   \n",
      "2023-07-10    AC       2.0     136.0       4.0     114.0       8.0      91.0   \n",
      "2023-07-17    AC       1.0     155.0       2.0     126.0       5.0      98.0   \n",
      "2023-07-24    AC       0.0     171.0       1.0     137.0       3.0     104.0   \n",
      "2023-07-31    AC       1.0     178.0       2.0     144.0       4.0     111.0   \n",
      "2023-08-07    AC       0.0     188.0       1.0     150.0       2.0     111.0   \n",
      "2023-08-14    AC       0.0     200.0       1.0     159.0       3.0     119.0   \n",
      "2023-08-21    AC       0.0     308.0       0.0     239.0       1.0     171.0   \n",
      "2023-08-28    AC       0.0     548.0       0.0     414.0       1.0     287.0   \n",
      "2023-09-04    AC       0.0     768.0       0.0     570.0       0.0     384.0   \n",
      "2023-09-11    AC       0.0    1050.0       0.0     779.0       1.0     524.0   \n",
      "2023-09-18    AC       0.0    1088.0       0.0     806.0       0.0     540.0   \n",
      "2023-09-25    AC       0.0    1107.0       0.0     815.0       0.0     541.0   \n",
      "2023-10-02    AC       0.0    1252.0       0.0     929.0       1.0     624.0   \n",
      "\n",
      "            lower_50  upper_50  preds  \n",
      "date                                   \n",
      "2022-10-10      16.0     275.0   87.0  \n",
      "2022-10-17      19.0     310.0   99.0  \n",
      "2022-10-24      19.0     305.0   97.0  \n",
      "2022-10-31      29.0     322.0  117.0  \n",
      "2022-11-07      34.0     352.0  131.0  \n",
      "2022-11-14      42.0     394.0  153.0  \n",
      "2022-11-21      50.0     423.0  170.0  \n",
      "2022-11-28      58.0     451.0  187.0  \n",
      "2022-12-05      76.0     476.0  215.0  \n",
      "2022-12-12      71.0     443.0  200.0  \n",
      "2022-12-19      62.0     440.0  190.0  \n",
      "2022-12-26      38.0     397.0  149.0  \n",
      "2023-01-02     103.0     660.0  296.0  \n",
      "2023-01-09     109.0     676.0  307.0  \n",
      "2023-01-16     137.0     713.0  346.0  \n",
      "2023-01-23     129.0     641.0  317.0  \n",
      "2023-01-30     120.0     673.0  317.0  \n",
      "2023-02-06     117.0     655.0  309.0  \n",
      "2023-02-13     117.0     645.0  306.0  \n",
      "2023-02-20      95.0     562.0  260.0  \n",
      "2023-02-27      91.0     533.0  247.0  \n",
      "2023-03-06      80.0     445.0  210.0  \n",
      "2023-03-13      71.0     390.0  186.0  \n",
      "2023-03-20      70.0     318.0  163.0  \n",
      "2023-03-27      56.0     267.0  134.0  \n",
      "2023-04-03      55.0     242.0  125.0  \n",
      "2023-04-10      49.0     195.0  105.0  \n",
      "2023-04-17      45.0     158.0   90.0  \n",
      "2023-04-24      34.0     147.0   76.0  \n",
      "2023-05-01      39.0     136.0   78.0  \n",
      "2023-05-08      37.0     127.0   73.0  \n",
      "2023-05-15      33.0     103.0   62.0  \n",
      "2023-05-22      30.0      94.0   56.0  \n",
      "2023-05-29      29.0      84.0   52.0  \n",
      "2023-06-05      20.0      81.0   44.0  \n",
      "2023-06-12      23.0      72.0   43.0  \n",
      "2023-06-19      15.0      62.0   33.0  \n",
      "2023-06-26      17.0      65.0   36.0  \n",
      "2023-07-03      18.0      64.0   36.0  \n",
      "2023-07-10      17.0      59.0   34.0  \n",
      "2023-07-17      14.0      60.0   31.0  \n",
      "2023-07-24      11.0      60.0   28.0  \n",
      "2023-07-31      13.0      66.0   32.0  \n",
      "2023-08-07       9.0      62.0   27.0  \n",
      "2023-08-14      10.0      67.0   30.0  \n",
      "2023-08-21       8.0      88.0   33.0  \n",
      "2023-08-28       8.0     135.0   43.0  \n",
      "2023-09-04       7.0     168.0   46.0  \n",
      "2023-09-11       9.0     228.0   62.0  \n",
      "2023-09-18       9.0     232.0   62.0  \n",
      "2023-09-25       7.0     228.0   58.0  \n",
      "2023-10-02      11.0     271.0   73.0  \n"
     ]
    },
    {
     "ename": "SystemExit",
     "evalue": "",
     "output_type": "error",
     "traceback": [
      "An exception has occurred, use %tb to see the full traceback.\n",
      "\u001b[31mSystemExit\u001b[39m\n"
     ]
    },
    {
     "name": "stderr",
     "output_type": "stream",
     "text": [
      "/Users/twa27/miniforge3/envs/DENGUE_SPRINT/lib/python3.12/site-packages/IPython/core/interactiveshell.py:3707: UserWarning: To exit: use 'exit', 'quit', or Ctrl-D.\n",
      "  warn(\"To exit: use 'exit', 'quit', or Ctrl-D.\", stacklevel=1)\n"
     ]
    }
   ],
   "source": [
    "# define validation experiment indices..\n",
    "validation_indices = [1,]\n",
    "\n",
    "# .. and loop over them\n",
    "for validx in validation_indices:\n",
    "    # load validation experiment data\n",
    "    forecast = pd.read_csv(f'../data/interim/baseline_model-validation_{validx}.csv', index_col=0)\n",
    "    # get the ufs..\n",
    "    ufs = forecast['adm_1'].unique().tolist()\n",
    "    # ..and loop over them\n",
    "    for uf in ['AC']:\n",
    "        # slice data\n",
    "        df = forecast[forecast['adm_1'] == uf].reset_index()\n",
    "\n",
    "        print(df)\n",
    "\n",
    "        import sys\n",
    "        sys.exit()\n",
    "        # push the prediction\n",
    "        res = mosq.upload_prediction(\n",
    "            model_id = 127, \n",
    "            description = f'Validation {validx} (NegBinom Baseline model)', \n",
    "            commit = '5124fd277a276a3a41e70420f84493a617eb6cb1',\n",
    "            predict_date = '2025-07-29', \n",
    "            prediction = df,\n",
    "            adm_1=\"DF\",\n",
    "            api_key = api_key) "
   ]
  },
  {
   "cell_type": "code",
   "execution_count": null,
   "id": "b55e16c1",
   "metadata": {},
   "outputs": [],
   "source": []
  }
 ],
 "metadata": {
  "kernelspec": {
   "display_name": "DENGUE_SPRINT",
   "language": "python",
   "name": "python3"
  },
  "language_info": {
   "codemirror_mode": {
    "name": "ipython",
    "version": 3
   },
   "file_extension": ".py",
   "mimetype": "text/x-python",
   "name": "python",
   "nbconvert_exporter": "python",
   "pygments_lexer": "ipython3",
   "version": "3.12.11"
  }
 },
 "nbformat": 4,
 "nbformat_minor": 5
}
