{
 "cells": [
  {
   "cell_type": "code",
   "execution_count": 19,
   "id": "8002e6e8-a1b2-4208-970e-df034a5ffd5b",
   "metadata": {},
   "outputs": [],
   "source": [
    "import numpy as np\n",
    "import pandas as pd\n",
    "import mosqlient as mosq\n",
    "from epiweeks import Week\n",
    "import matplotlib.pyplot as plt"
   ]
  },
  {
   "cell_type": "markdown",
   "id": "1118ab40",
   "metadata": {},
   "source": [
    "## Uploading the forecasts to the Mosqlimate platform\n",
    "\n",
    "### 1. Load API key"
   ]
  },
  {
   "cell_type": "code",
   "execution_count": 20,
   "id": "c98e6fba",
   "metadata": {},
   "outputs": [],
   "source": [
    "import os\n",
    "from dotenv import load_dotenv\n",
    "\n",
    "# Load environment variables from a specific file\n",
    "dotenv_path = os.path.join(os.getcwd(), '..', 'API_KEY.env')\n",
    "load_dotenv(dotenv_path=dotenv_path)\n",
    "\n",
    "# Get the API key\n",
    "api_key = os.getenv('API_KEY')"
   ]
  },
  {
   "cell_type": "markdown",
   "id": "5c5502b5",
   "metadata": {},
   "source": [
    "\n",
    "### 2. Define model characteristics and upload it (DO ONLY ONCE)"
   ]
  },
  {
   "cell_type": "code",
   "execution_count": 21,
   "id": "19ff1d06",
   "metadata": {},
   "outputs": [
    {
     "data": {
      "text/plain": [
       "{'id': 128,\n",
       " 'name': 'Cornell PEH - NegBinom Baseline model',\n",
       " 'description': 'Negative Binomial baseline model for the 2025 sprint',\n",
       " 'author': {'user': {'name': 'Bento Lab', 'username': 'anabento'},\n",
       "  'institution': None},\n",
       " 'repository': 'https://github.com/anabento/DengueSprint_Cornell-PEH',\n",
       " 'implementation_language': {'language': 'Python'},\n",
       " 'disease': 'dengue',\n",
       " 'categorical': False,\n",
       " 'spatial': True,\n",
       " 'temporal': True,\n",
       " 'adm_level': 1,\n",
       " 'time_resolution': 'week',\n",
       " 'sprint': True}"
      ]
     },
     "execution_count": 21,
     "metadata": {},
     "output_type": "execute_result"
    }
   ],
   "source": [
    "name = \"Cornell PEH - NegBinom Baseline model\"\n",
    "description = \"Negative Binomial baseline model for the 2025 sprint\"\n",
    "repository = \"https://github.com/anabento/DengueSprint_Cornell-PEH\"\n",
    "implementation_language = \"Python\"\n",
    "disease = \"dengue\"\n",
    "temporal = True\n",
    "spatial = True\n",
    "categorical = False\n",
    "adm_level = 1\n",
    "time_resolution = \"week\"\n",
    "sprint = True\n",
    "\n",
    "model = mosq.upload_model(\n",
    "    api_key=api_key,\n",
    "    name=name,\n",
    "    description=description,\n",
    "    repository=repository,\n",
    "    implementation_language=implementation_language,\n",
    "    disease=disease,\n",
    "    temporal=temporal,\n",
    "    spatial=spatial,\n",
    "    categorical=categorical,\n",
    "    adm_level=adm_level,\n",
    "    time_resolution=time_resolution,\n",
    "    sprint=sprint\n",
    ")\n",
    "\n",
    "model.dict()"
   ]
  },
  {
   "cell_type": "markdown",
   "id": "5ae9c721",
   "metadata": {},
   "source": [
    "### 2. Get our forecast & upload"
   ]
  },
  {
   "cell_type": "code",
   "execution_count": null,
   "id": "c6905d1c",
   "metadata": {},
   "outputs": [],
   "source": [
    "# define validation experiment indices..\n",
    "validation_indices = [1,2,3]\n",
    "\n",
    "# .. and loop over them\n",
    "for validx in validation_indices:\n",
    "    # load validation experiment data\n",
    "    forecast = pd.read_csv(f'../data/interim/baseline_model-validation_{validx}.csv', index_col=0)\n",
    "    # get the ufs..\n",
    "    ufs = forecast['adm_1'].unique().tolist()\n",
    "    # ..and loop over them\n",
    "    for uf in ufs:\n",
    "        # slice data\n",
    "        df = forecast[forecast['adm_1'] == uf].reset_index()\n",
    "        # push the prediction\n",
    "        res = mosq.upload_prediction(\n",
    "            model_id = 129, \n",
    "            description = f'Validation {validx} (NegBinom Baseline model)', \n",
    "            commit = '01fa194bf4ca05759f2c370d0cb2971e2fb4adc0',\n",
    "            predict_date = '2025-07-29', \n",
    "            prediction = df,\n",
    "            adm_1=f'{uf}',\n",
    "            api_key = api_key) "
   ]
  },
  {
   "cell_type": "code",
   "execution_count": 23,
   "id": "d506ff16",
   "metadata": {},
   "outputs": [
    {
     "data": {
      "text/plain": [
       "Prediction <1233>"
      ]
     },
     "execution_count": 23,
     "metadata": {},
     "output_type": "execute_result"
    }
   ],
   "source": [
    "res"
   ]
  }
 ],
 "metadata": {
  "kernelspec": {
   "display_name": "DENGUE_SPRINT",
   "language": "python",
   "name": "python3"
  },
  "language_info": {
   "codemirror_mode": {
    "name": "ipython",
    "version": 3
   },
   "file_extension": ".py",
   "mimetype": "text/x-python",
   "name": "python",
   "nbconvert_exporter": "python",
   "pygments_lexer": "ipython3",
   "version": "3.12.11"
  }
 },
 "nbformat": 4,
 "nbformat_minor": 5
}
